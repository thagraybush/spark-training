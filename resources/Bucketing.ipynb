{
 "cells": [
  {
   "cell_type": "markdown",
   "id": "d03a30a5",
   "metadata": {},
   "source": [
    "# Understanding Bucketing"
   ]
  },
  {
   "cell_type": "code",
   "execution_count": null,
   "id": "e42afa37",
   "metadata": {},
   "outputs": [],
   "source": [
    "import findspark\n",
    "findspark.init()"
   ]
  },
  {
   "cell_type": "code",
   "execution_count": null,
   "id": "888ffb7b",
   "metadata": {},
   "outputs": [],
   "source": [
    "from pyspark import SparkConf\n",
    "from pyspark.sql import SparkSession\n",
    "conf = SparkConf() \\\n",
    "        .setAppName(\"Dyanmic Partitions\") \\\n",
    "        .set(\"spark.driver.memory\", \"4g\") \\\n",
    "        .set(\"spark.driver.cores\", \"5\") \\\n",
    "        .set(\"spark.master\", \"local[5]\")\n",
    "\n",
    "spark = SparkSession.builder.config(conf=conf).getOrCreate()"
   ]
  },
  {
   "cell_type": "markdown",
   "id": "edebce0e",
   "metadata": {},
   "source": [
    "## Create Dataframes"
   ]
  },
  {
   "cell_type": "code",
   "execution_count": null,
   "id": "71a92355",
   "metadata": {},
   "outputs": [],
   "source": [
    "ratingDF = spark.read.option(\"header\",\"true\").csv(\"D://TechnoAvengers//DI//Spark_Optimizations//ml-25m//ratings.csv\")\n",
    "tagsDF = spark.read.option(\"header\",\"true\").csv(\"D://TechnoAvengers//DI//Spark_Optimizations//ml-25m//tags.csv\")"
   ]
  },
  {
   "cell_type": "markdown",
   "id": "908a5b4c",
   "metadata": {},
   "source": [
    "## Joining Datasets without Bucketing"
   ]
  },
  {
   "cell_type": "code",
   "execution_count": null,
   "id": "c4162b7e",
   "metadata": {
    "scrolled": true
   },
   "outputs": [],
   "source": [
    "ratingDF.join(tagsDF,\"movieId\").show()"
   ]
  },
  {
   "cell_type": "markdown",
   "id": "0d4de492",
   "metadata": {},
   "source": [
    "## Bucket Dataset on movieId"
   ]
  },
  {
   "cell_type": "code",
   "execution_count": null,
   "id": "229fb78a",
   "metadata": {},
   "outputs": [],
   "source": [
    "ratingDF.write.bucketBy(20, \"movieId\").saveAsTable(\"ratings_bucketed\")\n",
    "tagsDF.write.bucketBy(10, \"movieId\").saveAsTable(\"tags_bucketed\")"
   ]
  },
  {
   "cell_type": "markdown",
   "id": "dea3bfcb",
   "metadata": {},
   "source": [
    "# Run Join Query on bucketed data"
   ]
  },
  {
   "cell_type": "code",
   "execution_count": null,
   "id": "8b2c1a3f",
   "metadata": {
    "scrolled": true
   },
   "outputs": [],
   "source": [
    "spark.sql(\"select * from ratings_bucketed r join tags_bucketed t on r.movieId=t.movieId\").show()"
   ]
  }
 ],
 "metadata": {
  "kernelspec": {
   "display_name": "Python 3",
   "language": "python",
   "name": "python3"
  },
  "language_info": {
   "codemirror_mode": {
    "name": "ipython",
    "version": 3
   },
   "file_extension": ".py",
   "mimetype": "text/x-python",
   "name": "python",
   "nbconvert_exporter": "python",
   "pygments_lexer": "ipython3",
   "version": "3.8.8"
  }
 },
 "nbformat": 4,
 "nbformat_minor": 5
}
