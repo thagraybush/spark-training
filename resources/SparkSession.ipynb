{
 "cells": [
  {
   "cell_type": "code",
   "execution_count": 2,
   "id": "4a8f1a19",
   "metadata": {},
   "outputs": [],
   "source": [
    "import findspark\n",
    "findspark.init()"
   ]
  },
  {
   "cell_type": "code",
   "execution_count": 35,
   "id": "33921ac6",
   "metadata": {},
   "outputs": [],
   "source": [
    "from pyspark.sql import SparkSession\n",
    "spark = SparkSession.builder.appName('abc').getOrCreate()"
   ]
  },
  {
   "cell_type": "code",
   "execution_count": 36,
   "id": "4d70bcc0",
   "metadata": {},
   "outputs": [],
   "source": [
    "from pyspark.sql import Row\n",
    "data = [Row(id=0), Row(id=1), Row(id=2)]"
   ]
  },
  {
   "cell_type": "code",
   "execution_count": 37,
   "id": "c7fe1f59",
   "metadata": {},
   "outputs": [],
   "source": [
    "df1 = spark.createDataFrame(data)"
   ]
  },
  {
   "cell_type": "code",
   "execution_count": 39,
   "id": "04326a4d",
   "metadata": {},
   "outputs": [],
   "source": [
    "df1.createOrReplaceTempView(\"test_table\")"
   ]
  },
  {
   "cell_type": "code",
   "execution_count": 40,
   "id": "ab429993",
   "metadata": {},
   "outputs": [
    {
     "name": "stdout",
     "output_type": "stream",
     "text": [
      "+--------+----------+-----------+\n",
      "|database| tableName|isTemporary|\n",
      "+--------+----------+-----------+\n",
      "|        |test_table|       true|\n",
      "+--------+----------+-----------+\n",
      "\n"
     ]
    }
   ],
   "source": [
    "spark.sql(\"show tables\").show()"
   ]
  },
  {
   "cell_type": "code",
   "execution_count": 41,
   "id": "acd299c7",
   "metadata": {},
   "outputs": [
    {
     "data": {
      "text/plain": [
       "[Table(name='test_table', database=None, description=None, tableType='TEMPORARY', isTemporary=True)]"
      ]
     },
     "execution_count": 41,
     "metadata": {},
     "output_type": "execute_result"
    }
   ],
   "source": [
    "spark.catalog.listTables()"
   ]
  },
  {
   "cell_type": "code",
   "execution_count": 42,
   "id": "1a79e218",
   "metadata": {},
   "outputs": [],
   "source": [
    "newSpark = spark.newSession()"
   ]
  },
  {
   "cell_type": "code",
   "execution_count": 43,
   "id": "6e4c9989",
   "metadata": {},
   "outputs": [
    {
     "name": "stdout",
     "output_type": "stream",
     "text": [
      "+--------+---------+-----------+\n",
      "|database|tableName|isTemporary|\n",
      "+--------+---------+-----------+\n",
      "+--------+---------+-----------+\n",
      "\n"
     ]
    }
   ],
   "source": [
    "newSpark.sql(\"show tables\").show()"
   ]
  },
  {
   "cell_type": "code",
   "execution_count": 44,
   "id": "df9536e0",
   "metadata": {},
   "outputs": [
    {
     "data": {
      "text/plain": [
       "[]"
      ]
     },
     "execution_count": 44,
     "metadata": {},
     "output_type": "execute_result"
    }
   ],
   "source": [
    "newSpark.catalog.listTables()"
   ]
  },
  {
   "cell_type": "code",
   "execution_count": 45,
   "id": "1813b2bc",
   "metadata": {},
   "outputs": [
    {
     "data": {
      "text/html": [
       "\n",
       "        <div>\n",
       "            <p><b>SparkContext</b></p>\n",
       "\n",
       "            <p><a href=\"http://MSI:4041\">Spark UI</a></p>\n",
       "\n",
       "            <dl>\n",
       "              <dt>Version</dt>\n",
       "                <dd><code>v3.0.2</code></dd>\n",
       "              <dt>Master</dt>\n",
       "                <dd><code>local[*]</code></dd>\n",
       "              <dt>AppName</dt>\n",
       "                <dd><code>abc</code></dd>\n",
       "            </dl>\n",
       "        </div>\n",
       "        "
      ],
      "text/plain": [
       "<SparkContext master=local[*] appName=abc>"
      ]
     },
     "execution_count": 45,
     "metadata": {},
     "output_type": "execute_result"
    }
   ],
   "source": [
    "newSpark.sparkContext"
   ]
  },
  {
   "cell_type": "code",
   "execution_count": 46,
   "id": "ab1a0b79",
   "metadata": {},
   "outputs": [
    {
     "data": {
      "text/html": [
       "\n",
       "        <div>\n",
       "            <p><b>SparkContext</b></p>\n",
       "\n",
       "            <p><a href=\"http://MSI:4041\">Spark UI</a></p>\n",
       "\n",
       "            <dl>\n",
       "              <dt>Version</dt>\n",
       "                <dd><code>v3.0.2</code></dd>\n",
       "              <dt>Master</dt>\n",
       "                <dd><code>local[*]</code></dd>\n",
       "              <dt>AppName</dt>\n",
       "                <dd><code>abc</code></dd>\n",
       "            </dl>\n",
       "        </div>\n",
       "        "
      ],
      "text/plain": [
       "<SparkContext master=local[*] appName=abc>"
      ]
     },
     "execution_count": 46,
     "metadata": {},
     "output_type": "execute_result"
    }
   ],
   "source": [
    "spark.sparkContext"
   ]
  },
  {
   "cell_type": "code",
   "execution_count": 48,
   "id": "32d84352",
   "metadata": {},
   "outputs": [
    {
     "data": {
      "text/plain": [
       "True"
      ]
     },
     "execution_count": 48,
     "metadata": {},
     "output_type": "execute_result"
    }
   ],
   "source": [
    " spark.sparkContext == newSpark.sparkContext"
   ]
  },
  {
   "cell_type": "code",
   "execution_count": 49,
   "id": "d9bc9e8e",
   "metadata": {},
   "outputs": [
    {
     "data": {
      "text/plain": [
       "True"
      ]
     },
     "execution_count": 49,
     "metadata": {},
     "output_type": "execute_result"
    }
   ],
   "source": [
    "spark!=newSpark"
   ]
  },
  {
   "cell_type": "code",
   "execution_count": 53,
   "id": "1421b4f7",
   "metadata": {},
   "outputs": [],
   "source": [
    "newSpark.conf.set(\"spark.sql.shuffle.partitions\",3)"
   ]
  },
  {
   "cell_type": "code",
   "execution_count": 69,
   "id": "e4bbf8b8",
   "metadata": {},
   "outputs": [],
   "source": [
    "moviesDF = spark.read.option(\"multiLine\",\"true\").json(\"D://TechnoAvengers//Sparkp-New//movies.json\")"
   ]
  },
  {
   "cell_type": "code",
   "execution_count": 70,
   "id": "59bc1008",
   "metadata": {},
   "outputs": [],
   "source": [
    "moviesDF1 = newSpark.read.option(\"multiLine\",\"true\").json(\"D://TechnoAvengers//Sparkp-New//movies.json\")"
   ]
  },
  {
   "cell_type": "code",
   "execution_count": 75,
   "id": "a2637c4c",
   "metadata": {},
   "outputs": [],
   "source": [
    "moviesDF.groupBy(\"year\").count().write.json(\"D://TechnoAvengers//Sparkp-New//output1\")"
   ]
  },
  {
   "cell_type": "code",
   "execution_count": 76,
   "id": "54715926",
   "metadata": {},
   "outputs": [],
   "source": [
    "moviesDF1.groupBy(\"year\").count().write.json(\"D://TechnoAvengers//Sparkp-New//output2\")"
   ]
  },
  {
   "cell_type": "code",
   "execution_count": null,
   "id": "853a49df",
   "metadata": {},
   "outputs": [],
   "source": []
  }
 ],
 "metadata": {
  "kernelspec": {
   "display_name": "Python 3",
   "language": "python",
   "name": "python3"
  },
  "language_info": {
   "codemirror_mode": {
    "name": "ipython",
    "version": 3
   },
   "file_extension": ".py",
   "mimetype": "text/x-python",
   "name": "python",
   "nbconvert_exporter": "python",
   "pygments_lexer": "ipython3",
   "version": "3.8.8"
  }
 },
 "nbformat": 4,
 "nbformat_minor": 5
}
