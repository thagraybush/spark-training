{
 "cells": [
  {
   "cell_type": "raw",
   "id": "dd1735a5",
   "metadata": {},
   "source": [
    "import findspark\n",
    "findspark.init()"
   ]
  },
  {
   "cell_type": "code",
   "execution_count": 8,
   "id": "b15438ce",
   "metadata": {},
   "outputs": [
    {
     "name": "stdout",
     "output_type": "stream",
     "text": [
      "root\n",
      " |-- movieId: string (nullable = true)\n",
      " |-- title: string (nullable = true)\n",
      " |-- genres: string (nullable = true)\n",
      "\n",
      "root\n",
      " |-- userId: string (nullable = true)\n",
      " |-- movieId: string (nullable = true)\n",
      " |-- rating: string (nullable = true)\n",
      " |-- timestamp: string (nullable = true)\n",
      "\n"
     ]
    }
   ],
   "source": [
    "from pyspark.sql import SparkSession\n",
    "spark = SparkSession.builder.getOrCreate()\n",
    "moviesDF = spark.read.option(\"header\",\"true\").csv(\"D://TechnoAvengers//DI//Spark_Optimizations//ml-25m//movies.csv\")\n",
    "ratingDF = spark.read.option(\"header\",\"true\").csv(\"D://TechnoAvengers//DI//Spark_Optimizations//ml-25m//ratings.csv\")\n",
    "moviesDF.printSchema()\n",
    "ratingDF.printSchema()"
   ]
  },
  {
   "cell_type": "code",
   "execution_count": 20,
   "id": "4d2f09ca",
   "metadata": {},
   "outputs": [],
   "source": [
    "groupDF = moviesDF \\\n",
    ".join(ratingDF,\"movieId\") \\\n",
    ".groupBy(\"rating\") \\\n",
    ".count() \\\n",
    ".write.mode(\"overwrite\").csv(\"D://TechnoAvengers//DI//Spark_Optimizations//ml-25m//output//\")"
   ]
  },
  {
   "cell_type": "code",
   "execution_count": null,
   "id": "56f84c9f",
   "metadata": {},
   "outputs": [],
   "source": []
  }
 ],
 "metadata": {
  "kernelspec": {
   "display_name": "Python 3",
   "language": "python",
   "name": "python3"
  },
  "language_info": {
   "codemirror_mode": {
    "name": "ipython",
    "version": 3
   },
   "file_extension": ".py",
   "mimetype": "text/x-python",
   "name": "python",
   "nbconvert_exporter": "python",
   "pygments_lexer": "ipython3",
   "version": "3.8.8"
  }
 },
 "nbformat": 4,
 "nbformat_minor": 5
}
