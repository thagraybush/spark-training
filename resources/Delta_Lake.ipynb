{
 "cells": [
  {
   "cell_type": "code",
   "execution_count": 1,
   "id": "1b03e71e",
   "metadata": {},
   "outputs": [],
   "source": [
    "\n",
    "import os\n",
    "os.environ['PYSPARK_SUBMIT_ARGS'] = '--packages io.delta:delta-core_2.12:0.7.0 --conf spark.sql.extensions=io.delta.sql.DeltaSparkSessionExtension --conf spark.sql.catalog.spark_catalog=org.apache.spark.sql.delta.catalog.DeltaCatalog pyspark-shell'"
   ]
  },
  {
   "cell_type": "code",
   "execution_count": 2,
   "id": "bc147263",
   "metadata": {},
   "outputs": [],
   "source": [
    "import findspark\n",
    "findspark.init()"
   ]
  },
  {
   "cell_type": "code",
   "execution_count": 3,
   "id": "2f73ae91",
   "metadata": {},
   "outputs": [],
   "source": [
    "from pyspark.sql import SparkSession\n",
    "spark = SparkSession.builder.appName('lineage').getOrCreate()"
   ]
  },
  {
   "cell_type": "code",
   "execution_count": 5,
   "id": "979fe384",
   "metadata": {},
   "outputs": [
    {
     "name": "stdout",
     "output_type": "stream",
     "text": [
      "+---+-------+\n",
      "| id|   type|\n",
      "+---+-------+\n",
      "|  1|history|\n",
      "|  2|history|\n",
      "|  3|history|\n",
      "|  4|history|\n",
      "|  5|history|\n",
      "|  6|history|\n",
      "|  7|history|\n",
      "|  8|history|\n",
      "|  9|history|\n",
      "| 10|history|\n",
      "| 11|history|\n",
      "| 12|history|\n",
      "| 13|history|\n",
      "| 14|history|\n",
      "| 15|history|\n",
      "| 16|history|\n",
      "| 17|history|\n",
      "| 18|history|\n",
      "| 19|history|\n",
      "| 20|history|\n",
      "+---+-------+\n",
      "only showing top 20 rows\n",
      "\n"
     ]
    }
   ],
   "source": [
    "from pyspark.sql.functions import *\n",
    "history = spark.range(1,1000)\n",
    "history = history.withColumn(\"type\", lit(\"history\"))\n",
    "history.show()"
   ]
  },
  {
   "cell_type": "code",
   "execution_count": 6,
   "id": "0c921349",
   "metadata": {},
   "outputs": [],
   "source": [
    "history.write.format(\"delta\").save(\"delta_sample_data\")"
   ]
  },
  {
   "cell_type": "code",
   "execution_count": 8,
   "id": "0c01f962",
   "metadata": {},
   "outputs": [
    {
     "name": "stdout",
     "output_type": "stream",
     "text": [
      "+---+-------+\n",
      "| id|   type|\n",
      "+---+-------+\n",
      "|100|updates|\n",
      "|101|updates|\n",
      "|102|updates|\n",
      "|103|updates|\n",
      "|104|updates|\n",
      "|105|updates|\n",
      "|106|updates|\n",
      "|107|updates|\n",
      "|108|updates|\n",
      "|109|updates|\n",
      "|110|updates|\n",
      "|111|updates|\n",
      "|112|updates|\n",
      "|113|updates|\n",
      "|114|updates|\n",
      "|115|updates|\n",
      "|116|updates|\n",
      "|117|updates|\n",
      "|118|updates|\n",
      "|119|updates|\n",
      "+---+-------+\n",
      "only showing top 20 rows\n",
      "\n"
     ]
    }
   ],
   "source": [
    "updates = spark.range(100,200)\n",
    "updates = updates.withColumn(\"type\", lit(\"updates\"))\n",
    "updates.show()"
   ]
  },
  {
   "cell_type": "code",
   "execution_count": 9,
   "id": "dca15daf",
   "metadata": {},
   "outputs": [],
   "source": [
    "from delta.tables import *\n",
    "deltaTable = DeltaTable.forPath(spark, \"delta_sample_data\")\n",
    "deltaTable.alias(\"history\").merge(\n",
    "    updates.alias(\"updates\"),\n",
    "    \"history.id = updates.id\").whenMatchedUpdateAll().whenNotMatchedInsertAll().execute()"
   ]
  },
  {
   "cell_type": "code",
   "execution_count": 10,
   "id": "e7b11c94",
   "metadata": {},
   "outputs": [
    {
     "name": "stdout",
     "output_type": "stream",
     "text": [
      "+-------+-----------------------+------+--------+---------+--------------------------------------------+----+--------+---------+-----------+--------------+-------------+-------------------------------------------------------------------------------------------------------------------------------------------------------------------------------------------------------------------+------------+\n",
      "|version|timestamp              |userId|userName|operation|operationParameters                         |job |notebook|clusterId|readVersion|isolationLevel|isBlindAppend|operationMetrics                                                                                                                                                                                                   |userMetadata|\n",
      "+-------+-----------------------+------+--------+---------+--------------------------------------------+----+--------+---------+-----------+--------------+-------------+-------------------------------------------------------------------------------------------------------------------------------------------------------------------------------------------------------------------+------------+\n",
      "|1      |2021-09-19 00:49:20.478|null  |null    |MERGE    |[predicate -> (history.`id` = updates.`id`)]|null|null    |null     |0          |null          |false        |[numTargetRowsCopied -> 66, numTargetRowsDeleted -> 0, numTargetFilesAdded -> 114, numTargetRowsInserted -> 0, numTargetRowsUpdated -> 100, numOutputRows -> 166, numSourceRows -> 100, numTargetFilesRemoved -> 2]|null        |\n",
      "|0      |2021-09-19 00:46:07.145|null  |null    |WRITE    |[mode -> ErrorIfExists, partitionBy -> []]  |null|null    |null     |null       |null          |true         |[numFiles -> 12, numOutputBytes -> 13097, numOutputRows -> 999]                                                                                                                                                    |null        |\n",
      "+-------+-----------------------+------+--------+---------+--------------------------------------------+----+--------+---------+-----------+--------------+-------------+-------------------------------------------------------------------------------------------------------------------------------------------------------------------------------------------------------------------+------------+\n",
      "\n"
     ]
    }
   ],
   "source": [
    "deltaTable.history().show(truncate=False)"
   ]
  },
  {
   "cell_type": "code",
   "execution_count": 12,
   "id": "1633b24e",
   "metadata": {},
   "outputs": [
    {
     "name": "stdout",
     "output_type": "stream",
     "text": [
      "+-------+-----+\n",
      "|   type|count|\n",
      "+-------+-----+\n",
      "|updates|  100|\n",
      "|history|  899|\n",
      "+-------+-----+\n",
      "\n"
     ]
    }
   ],
   "source": [
    "spark.read.format(\"delta\").load(\"delta_sample_data\").groupBy(\"type\").count().show()"
   ]
  },
  {
   "cell_type": "code",
   "execution_count": 16,
   "id": "304cdee4",
   "metadata": {},
   "outputs": [],
   "source": [
    "spark.read \\\n",
    " .format(\"delta\") \\\n",
    " .load(\"delta_sample_data\") \\\n",
    " .repartition(5) \\\n",
    " .write \\\n",
    " .option(\"dataChange\", \"false\") \\\n",
    " .format(\"delta\") \\\n",
    " .mode(\"overwrite\") \\\n",
    " .save(\"C://Users//yuvaan//Downloads//Edited-20210902T170302Z-001//Edited//delta_sample_data\")"
   ]
  },
  {
   "cell_type": "code",
   "execution_count": 17,
   "id": "ab034b45",
   "metadata": {},
   "outputs": [
    {
     "name": "stdout",
     "output_type": "stream",
     "text": [
      "+-------+-----+\n",
      "|   type|count|\n",
      "+-------+-----+\n",
      "|updates|  100|\n",
      "|history|  899|\n",
      "+-------+-----+\n",
      "\n"
     ]
    }
   ],
   "source": [
    "spark.read.format(\"delta\").load(\"delta_sample_data\").groupBy(\"type\").count().show()"
   ]
  },
  {
   "cell_type": "code",
   "execution_count": 21,
   "id": "bd86fecc",
   "metadata": {},
   "outputs": [],
   "source": [
    "spark.conf.set(\"spark.databricks.delta.retentionDurationCheck.enabled\",\"false\")"
   ]
  },
  {
   "cell_type": "code",
   "execution_count": 22,
   "id": "29117c63",
   "metadata": {},
   "outputs": [
    {
     "data": {
      "text/plain": [
       "DataFrame[]"
      ]
     },
     "execution_count": 22,
     "metadata": {},
     "output_type": "execute_result"
    }
   ],
   "source": [
    "deltaTable.vacuum(0)"
   ]
  }
 ],
 "metadata": {
  "kernelspec": {
   "display_name": "Python 3",
   "language": "python",
   "name": "python3"
  },
  "language_info": {
   "codemirror_mode": {
    "name": "ipython",
    "version": 3
   },
   "file_extension": ".py",
   "mimetype": "text/x-python",
   "name": "python",
   "nbconvert_exporter": "python",
   "pygments_lexer": "ipython3",
   "version": "3.8.8"
  }
 },
 "nbformat": 4,
 "nbformat_minor": 5
}
