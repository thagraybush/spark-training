{
 "cells": [
  {
   "cell_type": "markdown",
   "id": "d03a30a5",
   "metadata": {},
   "source": [
    "# Adaptive Query Plan"
   ]
  },
  {
   "cell_type": "code",
   "execution_count": 1,
   "id": "e42afa37",
   "metadata": {},
   "outputs": [],
   "source": [
    "import findspark\n",
    "findspark.init()"
   ]
  },
  {
   "cell_type": "code",
   "execution_count": 2,
   "id": "888ffb7b",
   "metadata": {},
   "outputs": [],
   "source": [
    "from pyspark.sql import SparkSession\n",
    "spark = SparkSession.builder.getOrCreate()"
   ]
  },
  {
   "cell_type": "markdown",
   "id": "b10124c9",
   "metadata": {},
   "source": [
    "<font color=blue> Disabling the adaptive query plan <font>"
   ]
  },
  {
   "cell_type": "code",
   "execution_count": 9,
   "id": "aba5c4d2",
   "metadata": {},
   "outputs": [],
   "source": [
    "spark.conf.set(\"spark.sql.adaptive.enabled\",\"false\")"
   ]
  },
  {
   "cell_type": "code",
   "execution_count": 3,
   "id": "f4e9d2f0",
   "metadata": {},
   "outputs": [
    {
     "data": {
      "text/plain": [
       "'true'"
      ]
     },
     "execution_count": 3,
     "metadata": {},
     "output_type": "execute_result"
    }
   ],
   "source": [
    "spark.conf.get(\"spark.sql.adaptive.coalescePartitions.enabled\")"
   ]
  },
  {
   "cell_type": "code",
   "execution_count": 10,
   "id": "d3449f8f",
   "metadata": {},
   "outputs": [],
   "source": [
    "\n",
    "moviesDF = spark.read.option(\"header\",\"true\").csv(\"D://TechnoAvengers//DI//Spark_Optimizations//ml-25m//movies.csv\")\n",
    "ratingDF = spark.read.option(\"header\",\"true\").csv(\"D://TechnoAvengers//DI//Spark_Optimizations//ml-25m//ratings.csv\")\n",
    "moviesDF \\\n",
    "    .join(ratingDF,\"movieId\") \\\n",
    "    .groupBy(\"rating\") \\\n",
    "    .count() \\\n",
    "    .write.mode(\"overwrite\").csv(\"D://TechnoAvengers//DI//Spark_Optimizations//ml-25m//output//\")"
   ]
  },
  {
   "cell_type": "markdown",
   "id": "a76b9af0",
   "metadata": {},
   "source": [
    "<font color=blue> Enabling the adaptive query plan <font>"
   ]
  },
  {
   "cell_type": "code",
   "execution_count": 11,
   "id": "71a92355",
   "metadata": {},
   "outputs": [],
   "source": [
    "spark.conf.set(\"spark.sql.adaptive.enabled\",\"true\")"
   ]
  },
  {
   "cell_type": "code",
   "execution_count": 12,
   "id": "0f8db547",
   "metadata": {},
   "outputs": [],
   "source": [
    "moviesDF = spark.read.option(\"header\",\"true\").csv(\"D://TechnoAvengers//DI//Spark_Optimizations//ml-25m//movies.csv\")\n",
    "ratingDF = spark.read.option(\"header\",\"true\").csv(\"D://TechnoAvengers//DI//Spark_Optimizations//ml-25m//ratings.csv\")\n",
    "moviesDF \\\n",
    "    .join(ratingDF,\"movieId\") \\\n",
    "    .groupBy(\"rating\") \\\n",
    "    .count() \\\n",
    "    .write.mode(\"overwrite\").csv(\"D://TechnoAvengers//DI//Spark_Optimizations//ml-25m//output//\")"
   ]
  }
 ],
 "metadata": {
  "kernelspec": {
   "display_name": "Python 3",
   "language": "python",
   "name": "python3"
  },
  "language_info": {
   "codemirror_mode": {
    "name": "ipython",
    "version": 3
   },
   "file_extension": ".py",
   "mimetype": "text/x-python",
   "name": "python",
   "nbconvert_exporter": "python",
   "pygments_lexer": "ipython3",
   "version": "3.8.8"
  }
 },
 "nbformat": 4,
 "nbformat_minor": 5
}
