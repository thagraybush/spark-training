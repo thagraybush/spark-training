{
 "cells": [
  {
   "cell_type": "markdown",
   "id": "d03a30a5",
   "metadata": {},
   "source": [
    "# Dyanmic Partition Pruning"
   ]
  },
  {
   "cell_type": "code",
   "execution_count": 2,
   "id": "e42afa37",
   "metadata": {},
   "outputs": [],
   "source": [
    "import findspark\n",
    "findspark.init()"
   ]
  },
  {
   "cell_type": "code",
   "execution_count": 3,
   "id": "888ffb7b",
   "metadata": {},
   "outputs": [],
   "source": [
    "from pyspark import SparkConf\n",
    "from pyspark.sql import SparkSession\n",
    "conf = SparkConf() \\\n",
    "        .setAppName(\"Dyanmic Partitions\") \\\n",
    "        .set(\"spark.driver.memory\", \"4g\")\n",
    "        \n",
    "spark = SparkSession.builder.config(conf=conf).getOrCreate()"
   ]
  },
  {
   "cell_type": "code",
   "execution_count": 21,
   "id": "71a92355",
   "metadata": {},
   "outputs": [
    {
     "name": "stdout",
     "output_type": "stream",
     "text": [
      "+------+------------+\n",
      "|rating|rating_count|\n",
      "+------+------------+\n",
      "|   1.0|      776815|\n",
      "|   4.5|     2200539|\n",
      "|   2.5|     1262797|\n",
      "|   3.5|     3177318|\n",
      "|   5.0|     3612474|\n",
      "|   0.5|      393068|\n",
      "|   4.0|     6639798|\n",
      "|   1.5|      399490|\n",
      "|   2.0|     1640868|\n",
      "|   3.0|     4896928|\n",
      "+------+------------+\n",
      "\n"
     ]
    }
   ],
   "source": [
    "ratingCountDF = spark.read.parquet(\"D://TechnoAvengers//DI//Spark_Optimizations//ml-25m//parquet//ratings_count\")\n",
    "ratingCountDF.show()\n",
    "ratingCountDF.createOrReplaceTempView(\"rating_count\")"
   ]
  },
  {
   "cell_type": "code",
   "execution_count": 20,
   "id": "229fb78a",
   "metadata": {},
   "outputs": [],
   "source": [
    "ratingDF = spark.read.option(\"header\",\"true\").csv(\"D://TechnoAvengers//DI//Spark_Optimizations//ml-25m//ratings.csv\")\n",
    "ratingDF.createOrReplaceTempView(\"ratings_without_partition\")"
   ]
  },
  {
   "cell_type": "code",
   "execution_count": 22,
   "id": "2d32cc6b",
   "metadata": {},
   "outputs": [
    {
     "name": "stdout",
     "output_type": "stream",
     "text": [
      "+------+-------+------+----------+\n",
      "|userId|movieId|rating| timestamp|\n",
      "+------+-------+------+----------+\n",
      "|     1|    296|   5.0|1147880044|\n",
      "|     1|    306|   3.5|1147868817|\n",
      "|     1|    307|   5.0|1147868828|\n",
      "|     1|    665|   5.0|1147878820|\n",
      "|     1|    899|   3.5|1147868510|\n",
      "|     1|   1088|   4.0|1147868495|\n",
      "|     1|   1175|   3.5|1147868826|\n",
      "|     1|   1217|   3.5|1147878326|\n",
      "|     1|   1237|   5.0|1147868839|\n",
      "|     1|   1250|   4.0|1147868414|\n",
      "|     1|   1260|   3.5|1147877857|\n",
      "|     1|   1653|   4.0|1147868097|\n",
      "|     1|   2161|   3.5|1147868609|\n",
      "|     1|   2573|   4.0|1147878923|\n",
      "|     1|   2632|   5.0|1147878248|\n",
      "|     1|   2692|   5.0|1147869100|\n",
      "|     1|   3448|   4.0|1147868480|\n",
      "|     1|   3569|   5.0|1147879603|\n",
      "|     1|   3949|   5.0|1147868678|\n",
      "|     1|   4144|   5.0|1147868898|\n",
      "+------+-------+------+----------+\n",
      "only showing top 20 rows\n",
      "\n"
     ]
    }
   ],
   "source": [
    "spark.sql(\"Select r.* from ratings_without_partition r join rating_count c on r.rating = c.rating where c.rating_count > 3000000\").show(20)"
   ]
  },
  {
   "cell_type": "code",
   "execution_count": 19,
   "id": "6ab537f8",
   "metadata": {},
   "outputs": [],
   "source": [
    "ratingDF = spark.read.parquet(\"D://TechnoAvengers//DI//Spark_Optimizations//ml-25m//parquet//ratings\")\n",
    "ratingDF.createOrReplaceTempView(\"ratings\")"
   ]
  },
  {
   "cell_type": "code",
   "execution_count": 23,
   "id": "233e1f03",
   "metadata": {},
   "outputs": [
    {
     "name": "stdout",
     "output_type": "stream",
     "text": [
      "+------+-------+----------+------+\n",
      "|userId|movieId| timestamp|rating|\n",
      "+------+-------+----------+------+\n",
      "|  9411|   1112| 941730273|   4.0|\n",
      "|     1|   1088|1147868495|   4.0|\n",
      "|  9411|   1125| 941640278|   4.0|\n",
      "|     1|   1250|1147868414|   4.0|\n",
      "|  9411|   1135| 941641183|   4.0|\n",
      "|     1|   1653|1147868097|   4.0|\n",
      "|  9411|   1136| 941640314|   4.0|\n",
      "|     1|   2573|1147878923|   4.0|\n",
      "|  9411|   1179| 941728764|   4.0|\n",
      "|     1|   3448|1147868480|   4.0|\n",
      "|  9411|   1185| 941639716|   4.0|\n",
      "|     1|   4703|1147869223|   4.0|\n",
      "|  9411|   1188| 941558258|   4.0|\n",
      "|     1|   5147|1147877654|   4.0|\n",
      "|  9411|   1194| 941640394|   4.0|\n",
      "|     1|   5878|1147868807|   4.0|\n",
      "|  9411|   1201| 941729264|   4.0|\n",
      "|     1|   5952|1147868053|   4.0|\n",
      "|  9411|   1217| 941639635|   4.0|\n",
      "|     1|   6377|1147868469|   4.0|\n",
      "+------+-------+----------+------+\n",
      "only showing top 20 rows\n",
      "\n"
     ]
    }
   ],
   "source": [
    "spark.sql(\"Select r.* from ratings r join rating_count c on r.rating = c.rating where c.rating_count > 3000000\").show(20)"
   ]
  },
  {
   "cell_type": "code",
   "execution_count": null,
   "id": "8b2c1a3f",
   "metadata": {},
   "outputs": [],
   "source": [
    "ratingDF = spark.read.parquet(\"D://TechnoAvengers//DI//Spark_Optimizations//ml-25m//parquet//ratings\")\n",
    "ratingDF.createOrReplaceTempView(\"ratings\")"
   ]
  }
 ],
 "metadata": {
  "kernelspec": {
   "display_name": "Python 3",
   "language": "python",
   "name": "python3"
  },
  "language_info": {
   "codemirror_mode": {
    "name": "ipython",
    "version": 3
   },
   "file_extension": ".py",
   "mimetype": "text/x-python",
   "name": "python",
   "nbconvert_exporter": "python",
   "pygments_lexer": "ipython3",
   "version": "3.8.8"
  }
 },
 "nbformat": 4,
 "nbformat_minor": 5
}
