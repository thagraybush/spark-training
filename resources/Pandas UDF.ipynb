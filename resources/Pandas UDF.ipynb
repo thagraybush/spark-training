{
 "cells": [
  {
   "cell_type": "code",
   "execution_count": 1,
   "id": "5fcdc44b",
   "metadata": {},
   "outputs": [],
   "source": [
    "import time\n",
    "import findspark\n",
    "findspark.init()"
   ]
  },
  {
   "cell_type": "code",
   "execution_count": 2,
   "id": "dce9e3e8",
   "metadata": {},
   "outputs": [],
   "source": [
    "from pyspark.sql import SparkSession\n",
    "spark = SparkSession.builder.appName('pandas udf').getOrCreate()"
   ]
  },
  {
   "cell_type": "code",
   "execution_count": 3,
   "id": "0fb7bd83",
   "metadata": {},
   "outputs": [],
   "source": [
    "def plus(a,b):\n",
    " return a+b"
   ]
  },
  {
   "cell_type": "code",
   "execution_count": 4,
   "id": "a493d6e2",
   "metadata": {},
   "outputs": [
    {
     "data": {
      "text/plain": [
       "<function __main__.plus(a, b)>"
      ]
     },
     "execution_count": 4,
     "metadata": {},
     "output_type": "execute_result"
    }
   ],
   "source": [
    "spark.udf.register(\"plus\",plus)"
   ]
  },
  {
   "cell_type": "code",
   "execution_count": 7,
   "id": "ceb76588",
   "metadata": {},
   "outputs": [
    {
     "name": "stdout",
     "output_type": "stream",
     "text": [
      "Time taken 62.69094705581665\n"
     ]
    }
   ],
   "source": [
    "start = time.time()\n",
    "df = spark.range(100000000).selectExpr(\"id AS a\",\"id AS b\")\n",
    "df.selectExpr(\"count(plus(a,b))\").collect()\n",
    "end = time.time()-start\n",
    "print(f\"Time taken {end}\")"
   ]
  },
  {
   "cell_type": "code",
   "execution_count": 8,
   "id": "05801377",
   "metadata": {},
   "outputs": [
    {
     "name": "stdout",
     "output_type": "stream",
     "text": [
      "== Physical Plan ==\n",
      "*(3) HashAggregate(keys=[], functions=[count(pythonUDF0#43)])\n",
      "+- Exchange SinglePartition, true, [id=#132]\n",
      "   +- *(2) HashAggregate(keys=[], functions=[partial_count(pythonUDF0#43)])\n",
      "      +- *(2) Project [pythonUDF0#43]\n",
      "         +- BatchEvalPython [plus(a#28L, b#29L)], [pythonUDF0#43]\n",
      "            +- *(1) Project [id#26L AS a#28L, id#26L AS b#29L]\n",
      "               +- *(1) Range (0, 100000000, step=1, splits=12)\n",
      "\n",
      "\n"
     ]
    }
   ],
   "source": [
    "df.selectExpr(\"count(plus(a,b))\").explain()"
   ]
  },
  {
   "cell_type": "code",
   "execution_count": 11,
   "id": "b825b15a",
   "metadata": {},
   "outputs": [],
   "source": [
    "from pyspark.sql.types import LongType\n",
    "from pyspark.sql.functions import pandas_udf,count\n",
    "\n",
    "@pandas_udf(LongType())\n",
    "def plus_pandas(a,b):\n",
    " return a+b"
   ]
  },
  {
   "cell_type": "code",
   "execution_count": 13,
   "id": "224934af",
   "metadata": {},
   "outputs": [
    {
     "data": {
      "text/plain": [
       "<function __main__.plus_pandas(a, b)>"
      ]
     },
     "execution_count": 13,
     "metadata": {},
     "output_type": "execute_result"
    }
   ],
   "source": [
    "spark.udf.register(\"plus_pandas\",plus_pandas)"
   ]
  },
  {
   "cell_type": "code",
   "execution_count": 14,
   "id": "97fef195",
   "metadata": {},
   "outputs": [
    {
     "name": "stdout",
     "output_type": "stream",
     "text": [
      "Time taken 14.810265064239502\n"
     ]
    }
   ],
   "source": [
    "start = time.time()\n",
    "df = spark.range(100000000).selectExpr(\"id AS a\",\"id AS b\")\n",
    "df.selectExpr(\"count(plus_pandas(a,b))\").collect()\n",
    "end = time.time()-start\n",
    "print(f\"Time taken {end}\")"
   ]
  },
  {
   "cell_type": "code",
   "execution_count": 15,
   "id": "07762bcb",
   "metadata": {},
   "outputs": [
    {
     "name": "stdout",
     "output_type": "stream",
     "text": [
      "== Physical Plan ==\n",
      "*(3) HashAggregate(keys=[], functions=[count(pythonUDF0#69L)])\n",
      "+- Exchange SinglePartition, true, [id=#200]\n",
      "   +- *(2) HashAggregate(keys=[], functions=[partial_count(pythonUDF0#69L)])\n",
      "      +- *(2) Project [pythonUDF0#69L]\n",
      "         +- ArrowEvalPython [plus_pandas(a#54L, b#55L)], [pythonUDF0#69L], 200\n",
      "            +- *(1) Project [id#52L AS a#54L, id#52L AS b#55L]\n",
      "               +- *(1) Range (0, 100000000, step=1, splits=12)\n",
      "\n",
      "\n"
     ]
    }
   ],
   "source": [
    "df.selectExpr(\"count(plus_pandas(a,b))\").explain()"
   ]
  },
  {
   "cell_type": "code",
   "execution_count": null,
   "id": "a959dd5b",
   "metadata": {},
   "outputs": [],
   "source": []
  }
 ],
 "metadata": {
  "kernelspec": {
   "display_name": "Python 3",
   "language": "python",
   "name": "python3"
  },
  "language_info": {
   "codemirror_mode": {
    "name": "ipython",
    "version": 3
   },
   "file_extension": ".py",
   "mimetype": "text/x-python",
   "name": "python",
   "nbconvert_exporter": "python",
   "pygments_lexer": "ipython3",
   "version": "3.8.8"
  }
 },
 "nbformat": 4,
 "nbformat_minor": 5
}
